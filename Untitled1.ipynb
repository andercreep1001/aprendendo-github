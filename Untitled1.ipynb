{
  "nbformat": 4,
  "nbformat_minor": 0,
  "metadata": {
    "colab": {
      "name": "Untitled1.ipynb",
      "provenance": [],
      "authorship_tag": "ABX9TyM3mVF6ItZAN4hE+XTTkuuX",
      "include_colab_link": true
    },
    "kernelspec": {
      "name": "python3",
      "display_name": "Python 3"
    },
    "language_info": {
      "name": "python"
    }
  },
  "cells": [
    {
      "cell_type": "markdown",
      "metadata": {
        "id": "view-in-github",
        "colab_type": "text"
      },
      "source": [
        "<a href=\"https://colab.research.google.com/github/andercreep1001/aprendendo-github/blob/master/Untitled1.ipynb\" target=\"_parent\"><img src=\"https://colab.research.google.com/assets/colab-badge.svg\" alt=\"Open In Colab\"/></a>"
      ]
    },
    {
      "cell_type": "markdown",
      "metadata": {
        "id": "yLq8w3XvALNJ"
      },
      "source": [
        "Variaves em python\n",
        "1"
      ]
    },
    {
      "cell_type": "code",
      "metadata": {
        "colab": {
          "base_uri": "https://localhost:8080/"
        },
        "id": "8UTUj1hyAHeH",
        "outputId": "b388880a-0502-4c94-b530-3551b76e1d19"
      },
      "source": [
        "nome = \"Taís\"\n",
        "print(nome)\n",
        "\n",
        "if nome == \"Taís\":\n",
        "  print(\"lindaaaa\")\n",
        "else:\n",
        "  print(\"Feia\")  "
      ],
      "execution_count": 3,
      "outputs": [
        {
          "output_type": "stream",
          "text": [
            "Taís\n",
            "lindaaaa\n"
          ],
          "name": "stdout"
        }
      ]
    }
  ]
}